{
  "nbformat": 4,
  "nbformat_minor": 0,
  "metadata": {
    "colab": {
      "provenance": [],
      "toc_visible": true
    },
    "kernelspec": {
      "name": "python3",
      "display_name": "Python 3"
    },
    "language_info": {
      "name": "python"
    }
  },
  "cells": [
    {
      "cell_type": "code",
      "execution_count": null,
      "metadata": {
        "id": "a9AMQVq9EPrV"
      },
      "outputs": [],
      "source": [
        "import pandas as pd\n",
        "from sklearn.linear_model import LinearRegression\n",
        "from sklearn.model_selection import train_test_split\n",
        "from sklearn.metrics import r2_score\n",
        "import numpy as np"
      ]
    },
    {
      "cell_type": "code",
      "source": [
        "# Preparing data\n",
        "data = pd.read_csv('Fish.csv')\n",
        "print('Fish dataset:\\n')\n",
        "print(data.sample(10))\n",
        "print('\\nPredict weight based on length1, length2, length3 and height:')\n",
        "print('weight = w0 + w1*length1 + w2*length2 + w3*length + w4*height\\n')\n",
        "X = data.iloc[:, 2:].values\n",
        "y = data.iloc[:, 1].values\n",
        "\n",
        "X_train, X_test, y_train, y_test = train_test_split(X, y, test_size=0.2)\n",
        "Xbar = np.concatenate((np.ones((X_train.shape[0], 1)), X_train), axis=1)\n",
        "Xbar_test = np.concatenate((np.ones((X_test.shape[0], 1)), X_test), axis=1)"
      ],
      "metadata": {
        "colab": {
          "base_uri": "https://localhost:8080/"
        },
        "id": "U0esSkEx2w8_",
        "outputId": "e2b54a9d-2cb8-4f02-fdcb-79006c9cd6cb"
      },
      "execution_count": null,
      "outputs": [
        {
          "output_type": "stream",
          "name": "stdout",
          "text": [
            "Fish dataset:\n",
            "\n",
            "       Species  Weight  Length1  Length2  Length3   Height   Width\n",
            "138       Pike   567.0     43.2     46.0     48.7   7.7920  4.8700\n",
            "81       Perch    85.0     18.2     20.0     21.0   5.0820  2.7720\n",
            "158      Smelt    19.9     13.8     15.0     16.2   2.9322  1.8792\n",
            "19       Bream   650.0     31.0     33.5     38.7  14.4738  5.7276\n",
            "135       Pike   510.0     40.0     42.5     45.5   6.8250  4.4590\n",
            "139       Pike   770.0     44.8     48.0     51.2   7.6800  5.3760\n",
            "84       Perch   125.0     19.0     21.0     22.5   5.6925  3.6675\n",
            "71      Parkki   300.0     24.0     26.0     29.0  11.3680  4.2340\n",
            "60   Whitefish  1000.0     37.3     40.0     43.5  12.3540  6.5250\n",
            "42       Roach   120.0     19.4     21.0     23.7   6.1146  3.2943\n",
            "\n",
            "Predict weight based on length1, length2, length3 and height:\n",
            "weight = w0 + w1*length1 + w2*length2 + w3*length + w4*height\n",
            "\n"
          ]
        }
      ]
    },
    {
      "cell_type": "code",
      "source": [
        "# Solution using gradient descent (Nesterov Accelerated Gradient)\n",
        "m = Xbar.shape[0]\n",
        "y_mat = np.reshape(y_train, (y_train.shape[0], 1))\n",
        "\n",
        "\n",
        "def cost(w):\n",
        "    return 0.5 / m * (np.linalg.norm(y_mat - Xbar.dot(w)) ** 2)\n",
        "\n",
        "\n",
        "def grad(w):\n",
        "    g = 1 / m * Xbar.T.dot(Xbar.dot(w) - y_mat)\n",
        "    return g\n",
        "\n",
        "\n",
        "def GD_NAG(grad, w_init, eta=0.02, gamma=0.9, max_iter=400):\n",
        "    # print('Running gradient descent...')\n",
        "    w = [w_init]\n",
        "    v = [np.zeros_like(w_init)]\n",
        "\n",
        "    for it in range(max_iter):\n",
        "        v_new = gamma * v[-1] + eta * grad(w[-1] - gamma * v[-1])\n",
        "        w_new = w[-1] - v_new\n",
        "        w.append(w_new)\n",
        "        v.append(v_new)\n",
        "        if np.linalg.norm(grad(w_new)) / np.array(w_init).size < 1e-4:\n",
        "            break\n",
        "        # print('Epoch {}/{}, Loss: {}\\nw = {}'.format(it, max_iter, cost(w_new), w[-1].T))\n",
        "    return w[-1]\n",
        "\n",
        "\n",
        "w_init = np.random.random((Xbar.shape[1], 1))\n",
        "w = GD_NAG(grad, w_init, eta=0.0004, max_iter=int(1e6))\n",
        "print(\"Solution using gradient descent:\\nw = {}\".format(w.reshape((w.shape[0],))))\n",
        "\n",
        "pred = Xbar_test.dot(w)\n",
        "print(\"Accuracy score: {} %\\n\".format(100 * r2_score(y_test, pred)))"
      ],
      "metadata": {
        "colab": {
          "base_uri": "https://localhost:8080/"
        },
        "id": "RSei4Cxd6h6M",
        "outputId": "256aed52-5560-4f04-d136-b7096a71b6bf"
      },
      "execution_count": null,
      "outputs": [
        {
          "output_type": "stream",
          "name": "stdout",
          "text": [
            "Solution using gradient descent:\n",
            "w = [-471.89530955   54.30102433    3.89862602  -33.1868454    31.69170561\n",
            "   18.18389469]\n",
            "Accuracy score: 90.28693417212172 %\n",
            "\n"
          ]
        }
      ]
    },
    {
      "cell_type": "code",
      "source": [
        "# Solution using normal equation\n",
        "w = np.dot(np.linalg.pinv(np.dot(Xbar.T, Xbar)), np.dot(Xbar.T, y_train))\n",
        "pred = np.dot(Xbar_test, w)\n",
        "print(\"Solution using normal equation:\\nw = {}\".format(w))\n",
        "print(\"Accuracy score: {} %\\n\".format(100 * r2_score(y_test, pred)))"
      ],
      "metadata": {
        "colab": {
          "base_uri": "https://localhost:8080/"
        },
        "id": "gJF88ELa65Yb",
        "outputId": "7f7b4eaf-6ab7-4773-9fc4-0cd093e149bb"
      },
      "execution_count": null,
      "outputs": [
        {
          "output_type": "stream",
          "name": "stdout",
          "text": [
            "Solution using normal equation:\n",
            "w = [-471.8972231    54.28670501    3.9136931   -33.18816788   31.69150649\n",
            "   18.18219128]\n",
            "Accuracy score: 90.28688015008512 %\n",
            "\n"
          ]
        }
      ]
    },
    {
      "cell_type": "code",
      "source": [
        "# Solution using scikit-learn\n",
        "regr = LinearRegression()\n",
        "regr.fit(X_train, y_train)\n",
        "print(\"Solution using scikit-learn:\\nw = {}\".format(np.concatenate((np.array([regr.intercept_]), regr.coef_))))\n",
        "print(\"Accuracy score: {} %\\n\".format(100 * regr.score(X_test, y_test)))"
      ],
      "metadata": {
        "colab": {
          "base_uri": "https://localhost:8080/"
        },
        "id": "UgCb_nnG6-BL",
        "outputId": "27498bd1-5c43-45b8-cb9c-9257790c3949"
      },
      "execution_count": null,
      "outputs": [
        {
          "output_type": "stream",
          "name": "stdout",
          "text": [
            "Solution using scikit-learn:\n",
            "w = [-471.8972231    54.28670501    3.9136931   -33.18816788   31.69150649\n",
            "   18.18219128]\n",
            "Accuracy score: 90.2868801500446 %\n",
            "\n"
          ]
        }
      ]
    }
  ]
}